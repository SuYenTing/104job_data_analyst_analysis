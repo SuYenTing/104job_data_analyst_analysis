{
 "cells": [
  {
   "cell_type": "markdown",
   "id": "acceptable-posting",
   "metadata": {},
   "source": [
    "# 104人力銀行「數據分析師」職缺探索式資料分析\n",
    "2021/02/14 蘇彥庭\n",
    "\n",
    "此篇Jupyter Notbook筆記為對104人力銀行「數據分析師」職缺搜尋結果，進行探索式資料分析。\n",
    "\n",
    "我們希望透過探索式資料分析，能夠了解當前數據分析師的職缺狀況、薪資狀況及所需要的技能等。\n",
    "\n",
    "分析的資料時點是2021/02/14，透過爬蟲來下載104人力銀行搜尋結果，搜尋關鍵字為「數據分析」，並額外設定職缺更新日期為「最近一個月」及上班時段為「日班」條件，總共下載8個搜尋頁面，共計有160個職缺資料。\n",
    "\n",
    "此分析的專案程式碼(含此份文件及爬蟲程式碼)皆已上傳至[Github](https://github.com/SuYenTing/104job_data_analyst_analysis)。"
   ]
  },
  {
   "cell_type": "code",
   "execution_count": 1,
   "id": "variable-robinson",
   "metadata": {},
   "outputs": [],
   "source": [
    "# 載入套件及設定\n",
    "import pandas as pd\n",
    "import json\n",
    "import jieba.analyse\n",
    "import matplotlib.pyplot as plt\n",
    "import seaborn as sns\n",
    "from sqlalchemy import create_engine\n",
    "from wordcloud import WordCloud\n",
    "\n",
    "# 設定matplotlib能夠呈現繁體字\n",
    "plt.rcParams['font.sans-serif'] = ['Microsoft JhengHei']\n",
    "plt.rcParams['axes.unicode_minus'] = False"
   ]
  },
  {
   "cell_type": "code",
   "execution_count": 2,
   "id": "little-collapse",
   "metadata": {},
   "outputs": [],
   "source": [
    "# 讀取MySQL的數據分析職缺資料\n",
    "secretFile = json.load(open('secretFile.json', 'r'))\n",
    "host = secretFile['host']\n",
    "username = secretFile['user']\n",
    "password = secretFile['password']\n",
    "port = secretFile['port']\n",
    "database = secretFile['dbName']\n",
    "engine = create_engine(f'mysql+mysqlconnector://{username}:{password}@{host}:{port}/{database}', echo=False)\n",
    "data = pd.read_sql('select * from search_data', con=engine)\n",
    "engine.dispose()"
   ]
  },
  {
   "cell_type": "code",
   "execution_count": 3,
   "id": "developing-uncle",
   "metadata": {},
   "outputs": [
    {
     "name": "stdout",
     "output_type": "stream",
     "text": [
      "<class 'pandas.core.frame.DataFrame'>\n",
      "RangeIndex: 160 entries, 0 to 159\n",
      "Data columns (total 18 columns):\n",
      " #   Column              Non-Null Count  Dtype \n",
      "---  ------              --------------  ----- \n",
      " 0   searchTime          160 non-null    object\n",
      " 1   keyword             160 non-null    object\n",
      " 2   maxPage             160 non-null    int64 \n",
      " 3   jobAnnounceDate     160 non-null    object\n",
      " 4   jobTitles           160 non-null    object\n",
      " 5   jobCompanyName      160 non-null    object\n",
      " 6   jobCompanyUrl       160 non-null    object\n",
      " 7   jobCompanyIndustry  160 non-null    object\n",
      " 8   jobContent          160 non-null    object\n",
      " 9   jobCategory         160 non-null    object\n",
      " 10  jobSalary           160 non-null    object\n",
      " 11  jobLocation         160 non-null    object\n",
      " 12  jobRqYear           160 non-null    object\n",
      " 13  jobRqEducation      160 non-null    object\n",
      " 14  jobRqDepartment     160 non-null    object\n",
      " 15  jobSpecialty        160 non-null    object\n",
      " 16  jobOthers           160 non-null    object\n",
      " 17  jobDetailUrl        160 non-null    object\n",
      "dtypes: int64(1), object(17)\n",
      "memory usage: 22.6+ KB\n"
     ]
    }
   ],
   "source": [
    "# 資料集內容\n",
    "data.info()"
   ]
  },
  {
   "cell_type": "markdown",
   "id": "metallic-father",
   "metadata": {},
   "source": [
    "## 資料欄位說明\n",
    "\n",
    "爬蟲下來的資料共計有160筆，共計有18個欄位：\n",
    "\n",
    "|編號|英文欄位名稱|中文欄位名稱|\n",
    "|:--:|:--:|:--:|\n",
    "|1|searchTime|爬蟲執行的時間|\n",
    "|2|keyword|搜尋關鍵字|\n",
    "|3|maxPage|搜尋最大頁數|\n",
    "|4|jobAnnounceDate|職缺日期|\n",
    "|5|jobTitles|職缺名稱|\n",
    "|6|jobCompanyName|職缺公司名稱|\n",
    "|7|jobCompanyUrl|職缺公司網址簡介(104人力銀行頁面)|\n",
    "|8|jobCompanyIndustry|職缺公司所屬產業|\n",
    "|9|jobContent|職缺內容|\n",
    "|10|jobCategory|職缺職業類別|\n",
    "|11|jobSalary|職缺薪水|\n",
    "|12|jobLocation|職缺地點|\n",
    "|13|jobRqYear|職缺要求年資|\n",
    "|14|jobRqEducation|職缺要求教育程度|\n",
    "|15|jobRqDepartment|職缺要求系所|\n",
    "|16|jobSpecialty|職缺要求技能|\n",
    "|17|jobOthers|職缺其他條件|\n",
    "|18|jobDetailUrl|職缺詳細資訊(104人力銀行頁面)|"
   ]
  },
  {
   "cell_type": "markdown",
   "id": "extra-newcastle",
   "metadata": {},
   "source": [
    "## 資料清洗與整理\n",
    "\n",
    "為能夠做出品質好的探索式資料分析，此處會先檢查資料，將不合理的資料先行移除，或將資料進行轉換以利分析。\n",
    "\n",
    "此處程式共處理以下事情：\n",
    "\n",
    "* 移除重複的職缺: 由於觀察資料時發現有重複資料 疑似有公司重複Po出職缺 所以此處透過「職缺其他條件」來過濾重複資料\n",
    "* 移除非正職的職缺: 非正職的職缺並非本篇文章想要觀察的目標\n",
    "* 移除提供年薪資訊的職缺: 由於年薪可能涵蓋到年終，換算出來的月薪會比實際高，造成資料偏頗，所以先移除不做分析\n",
    "* 移除非本國職缺: 外派職缺的薪資通常會比本國高，此處我們僅觀察本國的薪資\n",
    "* 整理職缺薪資資訊: 由於薪資會以「月薪35,000至40,000元以上」、「待遇面議」等形式表達，為能夠做量化分析，此處需要先將文字格式轉為數值格式。轉換規則為:\n",
    "    * 若薪資為一個範圍，例如「月薪35,000至50,000元以上」，則取範圍的上下界值做平均，代表該職缺的薪資\n",
    "    * 若薪資為某個值以上，例如「月薪50,000元以上」，則直接以該值作為該職缺的薪資\n",
    "    * 若薪資為「待遇面議」，則直接將薪資令為0，在計算相關薪資分析資料時會排除「待遇面議」資料"
   ]
  },
  {
   "cell_type": "code",
   "execution_count": 4,
   "id": "identical-designer",
   "metadata": {},
   "outputs": [
    {
     "name": "stdout",
     "output_type": "stream",
     "text": [
      "移除重複職缺後剩餘資料筆數:  113\n"
     ]
    }
   ],
   "source": [
    "# 移除重複職缺\n",
    "data = data.drop_duplicates(['jobOthers'])\n",
    "print('移除重複職缺後剩餘資料筆數: ', len(data))"
   ]
  },
  {
   "cell_type": "code",
   "execution_count": 5,
   "id": "advance-practice",
   "metadata": {},
   "outputs": [
    {
     "name": "stdout",
     "output_type": "stream",
     "text": [
      "移除重複非正值職缺後剩餘資料筆數:  111\n"
     ]
    }
   ],
   "source": [
    "# 移除非正職職缺\n",
    "data = data[~data['jobTitles'].str.contains('實習|工讀生|兼職')]\n",
    "data = data[~data['jobSalary'].str.contains('時薪')]\n",
    "print('移除重複非正值職缺後剩餘資料筆數: ', len(data))"
   ]
  },
  {
   "cell_type": "code",
   "execution_count": 6,
   "id": "advance-graduation",
   "metadata": {},
   "outputs": [
    {
     "name": "stdout",
     "output_type": "stream",
     "text": [
      "移除非台灣職缺後剩餘資料筆數:  111\n"
     ]
    }
   ],
   "source": [
    "# 移除非本國的職缺\n",
    "# 台灣縣市清單\n",
    "taiwanCounties = ['台北', '新北', '宜蘭', '基隆', '桃園', '新竹', '苗栗', \n",
    "                  '台中', '彰化', '南投', '雲林', '嘉義', '台南', '高雄', \n",
    "                  '屏東', '台東', '花蓮', '澎湖', '金門', '連江']\n",
    "data = data[data['jobLocation'].str.contains('|'.join(taiwanCounties))]\n",
    "print('移除非台灣職缺後剩餘資料筆數: ', len(data))"
   ]
  },
  {
   "cell_type": "code",
   "execution_count": 7,
   "id": "rolled-north",
   "metadata": {},
   "outputs": [
    {
     "name": "stdout",
     "output_type": "stream",
     "text": [
      "移除年薪計算職缺後剩餘資料筆數:  108\n"
     ]
    }
   ],
   "source": [
    "# 移除年薪計算的職缺\n",
    "data = data[~data['jobSalary'].str.contains('年薪')]\n",
    "print('移除年薪計算職缺後剩餘資料筆數: ', len(data))"
   ]
  },
  {
   "cell_type": "code",
   "execution_count": 8,
   "id": "grand-restriction",
   "metadata": {},
   "outputs": [],
   "source": [
    "# 重新編排index\n",
    "data = data.reset_index(drop=True)"
   ]
  },
  {
   "cell_type": "code",
   "execution_count": 9,
   "id": "comic-boring",
   "metadata": {},
   "outputs": [
    {
     "name": "stdout",
     "output_type": "stream",
     "text": [
      "<class 'pandas.core.frame.DataFrame'>\n",
      "RangeIndex: 108 entries, 0 to 107\n",
      "Data columns (total 18 columns):\n",
      " #   Column              Non-Null Count  Dtype \n",
      "---  ------              --------------  ----- \n",
      " 0   searchTime          108 non-null    object\n",
      " 1   keyword             108 non-null    object\n",
      " 2   maxPage             108 non-null    int64 \n",
      " 3   jobAnnounceDate     108 non-null    object\n",
      " 4   jobTitles           108 non-null    object\n",
      " 5   jobCompanyName      108 non-null    object\n",
      " 6   jobCompanyUrl       108 non-null    object\n",
      " 7   jobCompanyIndustry  108 non-null    object\n",
      " 8   jobContent          108 non-null    object\n",
      " 9   jobCategory         108 non-null    object\n",
      " 10  jobSalary           108 non-null    object\n",
      " 11  jobLocation         108 non-null    object\n",
      " 12  jobRqYear           108 non-null    object\n",
      " 13  jobRqEducation      108 non-null    object\n",
      " 14  jobRqDepartment     108 non-null    object\n",
      " 15  jobSpecialty        108 non-null    object\n",
      " 16  jobOthers           108 non-null    object\n",
      " 17  jobDetailUrl        108 non-null    object\n",
      "dtypes: int64(1), object(17)\n",
      "memory usage: 15.3+ KB\n"
     ]
    }
   ],
   "source": [
    "# 檢查資料表資訊\n",
    "data.info()"
   ]
  },
  {
   "cell_type": "code",
   "execution_count": 10,
   "id": "sweet-atlantic",
   "metadata": {},
   "outputs": [],
   "source": [
    "# 職缺薪資資料清洗函數\n",
    "def cleanJobSalary(rawSalary):\n",
    "    \n",
    "    # 移除千分位和單位\n",
    "    rawSalary = rawSalary.replace(',', '').replace('元', '').replace('以上', '')\n",
    "    \n",
    "    # 計算月平均薪資\n",
    "    if '月薪' in rawSalary:\n",
    "        \n",
    "        rawSalary = rawSalary.replace('月薪', '')\n",
    "        rawSalary = rawSalary.split('~')\n",
    "        \n",
    "        # 若長度為1代表此薪資資料為某個值以上\n",
    "        if len(rawSalary) == 1:\n",
    "            salary = int(rawSalary[0])\n",
    "        \n",
    "        # 若長度為2代表此薪資資料為範圍\n",
    "        elif len(rawSalary) == 2:\n",
    "            salary = int((int(rawSalary[0]) + int(rawSalary[1]))/2)\n",
    "        \n",
    "    elif '待遇面議' in rawSalary:\n",
    "        salary = int(0)\n",
    "    \n",
    "    return(salary)\n",
    "\n",
    "# 新增整理好的薪資資料\n",
    "data = data.assign(salary=data['jobSalary'].apply(lambda x: cleanJobSalary(x)))"
   ]
  },
  {
   "cell_type": "code",
   "execution_count": 11,
   "id": "northern-development",
   "metadata": {},
   "outputs": [
    {
     "name": "stdout",
     "output_type": "stream",
     "text": [
      "總資料筆數:108\n",
      "「待遇面議」資料筆數:63 佔總資料比:58.33%\n",
      "「有提供薪資資訊」資料筆數:45 佔總資料比:41.67%\n"
     ]
    }
   ],
   "source": [
    "# 薪資待遇面議樣本數\n",
    "print('總資料筆數:{}'.format(len(data)))\n",
    "print('「待遇面議」資料筆數:{} 佔總資料比:{:.2%}'.format(sum(data['salary'] == 0), sum(data['salary'] == 0)/len(data)))\n",
    "print('「有提供薪資資訊」資料筆數:{} 佔總資料比:{:.2%}'.format(sum(data['salary'] > 0), sum(data['salary'] > 0)/len(data)))"
   ]
  },
  {
   "cell_type": "markdown",
   "id": "excellent-oriental",
   "metadata": {},
   "source": [
    "## 薪資-敘述統計學分析\n",
    "\n",
    "由敘述統計學分析可以看到，數據分析師的相關職缺的平均薪資為48,189元，中位數為45,000元。\n",
    "\n",
    "依照法律規定，月薪須達4萬以上才能夠在職缺資訊上寫待遇面議。\n",
    "\n",
    "但此處的敘述統計學分析並未納入「待遇面議」的樣本，僅計算有提供薪資資訊的樣本(45筆)，所以這邊計算出來的數值結果僅提供參考。"
   ]
  },
  {
   "cell_type": "code",
   "execution_count": 12,
   "id": "scientific-orientation",
   "metadata": {},
   "outputs": [
    {
     "name": "stdout",
     "output_type": "stream",
     "text": [
      "count       45.000000\n",
      "mean     48188.888889\n",
      "std      10993.432383\n",
      "min      30000.000000\n",
      "25%      42000.000000\n",
      "50%      45000.000000\n",
      "75%      54000.000000\n",
      "max      80000.000000\n",
      "Name: salary, dtype: float64\n"
     ]
    },
    {
     "data": {
      "image/png": "[encoded data removed]",
      "text/plain": [
       "<Figure size 432x288 with 1 Axes>"
      ]
     },
     "metadata": {
      "needs_background": "light"
     },
     "output_type": "display_data"
    }
   ],
   "source": [
    "# 薪資敘述統計學分析與直方圖(排除薪資為待遇面議的樣本)\n",
    "print(data['salary'][data['salary'] > 0].describe())\n",
    "fig = sns.histplot(data['salary'][data['salary'] > 0])\n",
    "fig.set(xlabel='薪資級距(元)', ylabel='職缺數', title='職缺薪資直方圖')\n",
    "plt.show(fig)"
   ]
  },
  {
   "cell_type": "markdown",
   "id": "portable-folder",
   "metadata": {},
   "source": [
    "## 前10名最需要數據分析的產業"
   ]
  },
  {
   "cell_type": "code",
   "execution_count": 13,
   "id": "utility-squad",
   "metadata": {},
   "outputs": [
    {
     "data": {
      "text/html": [
       "<div>\n",
       "<style scoped>\n",
       "    .dataframe tbody tr th:only-of-type {\n",
       "        vertical-align: middle;\n",
       "    }\n",
       "\n",
       "    .dataframe tbody tr th {\n",
       "        vertical-align: top;\n",
       "    }\n",
       "\n",
       "    .dataframe thead th {\n",
       "        text-align: right;\n",
       "    }\n",
       "</style>\n",
       "<table border=\"1\" class=\"dataframe\">\n",
       "  <thead>\n",
       "    <tr style=\"text-align: right;\">\n",
       "      <th></th>\n",
       "      <th>次數</th>\n",
       "      <th>比率%</th>\n",
       "    </tr>\n",
       "    <tr>\n",
       "      <th>公司所屬產業類別</th>\n",
       "      <th></th>\n",
       "      <th></th>\n",
       "    </tr>\n",
       "  </thead>\n",
       "  <tbody>\n",
       "    <tr>\n",
       "      <th>網際網路相關業</th>\n",
       "      <td>21</td>\n",
       "      <td>19.44</td>\n",
       "    </tr>\n",
       "    <tr>\n",
       "      <th>電腦軟體服務業</th>\n",
       "      <td>15</td>\n",
       "      <td>13.89</td>\n",
       "    </tr>\n",
       "    <tr>\n",
       "      <th>電腦系統整合服務業</th>\n",
       "      <td>10</td>\n",
       "      <td>9.26</td>\n",
       "    </tr>\n",
       "    <tr>\n",
       "      <th>銀行業</th>\n",
       "      <td>10</td>\n",
       "      <td>9.26</td>\n",
       "    </tr>\n",
       "    <tr>\n",
       "      <th>其它軟體及網路相關業</th>\n",
       "      <td>4</td>\n",
       "      <td>3.70</td>\n",
       "    </tr>\n",
       "    <tr>\n",
       "      <th>廣告行銷公關業</th>\n",
       "      <td>4</td>\n",
       "      <td>3.70</td>\n",
       "    </tr>\n",
       "    <tr>\n",
       "      <th>金融控股業</th>\n",
       "      <td>4</td>\n",
       "      <td>3.70</td>\n",
       "    </tr>\n",
       "    <tr>\n",
       "      <th>工商顧問服務業</th>\n",
       "      <td>4</td>\n",
       "      <td>3.70</td>\n",
       "    </tr>\n",
       "    <tr>\n",
       "      <th>百貨相關業</th>\n",
       "      <td>3</td>\n",
       "      <td>2.78</td>\n",
       "    </tr>\n",
       "    <tr>\n",
       "      <th>電腦及其週邊設備製造業</th>\n",
       "      <td>3</td>\n",
       "      <td>2.78</td>\n",
       "    </tr>\n",
       "  </tbody>\n",
       "</table>\n",
       "</div>"
      ],
      "text/plain": [
       "             次數    比率%\n",
       "公司所屬產業類別              \n",
       "網際網路相關業      21  19.44\n",
       "電腦軟體服務業      15  13.89\n",
       "電腦系統整合服務業    10   9.26\n",
       "銀行業          10   9.26\n",
       "其它軟體及網路相關業    4   3.70\n",
       "廣告行銷公關業       4   3.70\n",
       "金融控股業         4   3.70\n",
       "工商顧問服務業       4   3.70\n",
       "百貨相關業         3   2.78\n",
       "電腦及其週邊設備製造業   3   2.78"
      ]
     },
     "execution_count": 13,
     "metadata": {},
     "output_type": "execute_result"
    }
   ],
   "source": [
    "# 前10名職缺所屬職業類別\n",
    "companyIndustryData = pd.DataFrame({\"次數\": data['jobCompanyIndustry'].value_counts(), \n",
    "                                    \"比率%\": round(data['jobCompanyIndustry'].value_counts(normalize=True), 4)*100})\n",
    "companyIndustryData.index.names = ['公司所屬產業類別']\n",
    "companyIndustryData.head(10)"
   ]
  },
  {
   "cell_type": "markdown",
   "id": "residential-perspective",
   "metadata": {},
   "source": [
    "## 前10名數據分析職缺所屬的職業類別"
   ]
  },
  {
   "cell_type": "code",
   "execution_count": 14,
   "id": "possible-chamber",
   "metadata": {},
   "outputs": [
    {
     "data": {
      "text/html": [
       "<div>\n",
       "<style scoped>\n",
       "    .dataframe tbody tr th:only-of-type {\n",
       "        vertical-align: middle;\n",
       "    }\n",
       "\n",
       "    .dataframe tbody tr th {\n",
       "        vertical-align: top;\n",
       "    }\n",
       "\n",
       "    .dataframe thead th {\n",
       "        text-align: right;\n",
       "    }\n",
       "</style>\n",
       "<table border=\"1\" class=\"dataframe\">\n",
       "  <thead>\n",
       "    <tr style=\"text-align: right;\">\n",
       "      <th></th>\n",
       "      <th>次數</th>\n",
       "      <th>比率%</th>\n",
       "    </tr>\n",
       "    <tr>\n",
       "      <th>職缺所屬職業類別</th>\n",
       "      <th></th>\n",
       "      <th></th>\n",
       "    </tr>\n",
       "  </thead>\n",
       "  <tbody>\n",
       "    <tr>\n",
       "      <th>電腦系統分析師</th>\n",
       "      <td>44</td>\n",
       "      <td>16.18</td>\n",
       "    </tr>\n",
       "    <tr>\n",
       "      <th>市場調查／市場分析</th>\n",
       "      <td>37</td>\n",
       "      <td>13.60</td>\n",
       "    </tr>\n",
       "    <tr>\n",
       "      <th>軟體設計工程師</th>\n",
       "      <td>34</td>\n",
       "      <td>12.50</td>\n",
       "    </tr>\n",
       "    <tr>\n",
       "      <th>其他資訊專業人員</th>\n",
       "      <td>17</td>\n",
       "      <td>6.25</td>\n",
       "    </tr>\n",
       "    <tr>\n",
       "      <th>統計精算人員</th>\n",
       "      <td>13</td>\n",
       "      <td>4.78</td>\n",
       "    </tr>\n",
       "    <tr>\n",
       "      <th>統計學研究員</th>\n",
       "      <td>13</td>\n",
       "      <td>4.78</td>\n",
       "    </tr>\n",
       "    <tr>\n",
       "      <th>資料庫管理人員</th>\n",
       "      <td>12</td>\n",
       "      <td>4.41</td>\n",
       "    </tr>\n",
       "    <tr>\n",
       "      <th>其他專案管理師</th>\n",
       "      <td>12</td>\n",
       "      <td>4.41</td>\n",
       "    </tr>\n",
       "    <tr>\n",
       "      <th>軟體相關專案管理師</th>\n",
       "      <td>11</td>\n",
       "      <td>4.04</td>\n",
       "    </tr>\n",
       "    <tr>\n",
       "      <th>行銷企劃人員</th>\n",
       "      <td>10</td>\n",
       "      <td>3.68</td>\n",
       "    </tr>\n",
       "  </tbody>\n",
       "</table>\n",
       "</div>"
      ],
      "text/plain": [
       "           次數    比率%\n",
       "職缺所屬職業類別            \n",
       "電腦系統分析師    44  16.18\n",
       "市場調查／市場分析  37  13.60\n",
       "軟體設計工程師    34  12.50\n",
       "其他資訊專業人員   17   6.25\n",
       "統計精算人員     13   4.78\n",
       "統計學研究員     13   4.78\n",
       "資料庫管理人員    12   4.41\n",
       "其他專案管理師    12   4.41\n",
       "軟體相關專案管理師  11   4.04\n",
       "行銷企劃人員     10   3.68"
      ]
     },
     "execution_count": 14,
     "metadata": {},
     "output_type": "execute_result"
    }
   ],
   "source": [
    "# 前10名職缺所屬職業類別\n",
    "categoryData = pd.DataFrame({\"次數\": data['jobCategory'].str.split(',').explode().value_counts(), \n",
    "                             \"比率%\": round(data['jobCategory'].str.split(',').explode().\n",
    "                                          value_counts(normalize=True), 4)*100})\n",
    "categoryData.index.names = ['職缺所屬職業類別']\n",
    "categoryData.head(10)"
   ]
  },
  {
   "cell_type": "markdown",
   "id": "cubic-hopkins",
   "metadata": {},
   "source": [
    "## 薪情最好前10名職業類別"
   ]
  },
  {
   "cell_type": "code",
   "execution_count": 15,
   "id": "abroad-danish",
   "metadata": {},
   "outputs": [
    {
     "data": {
      "text/html": [
       "<div>\n",
       "<style scoped>\n",
       "    .dataframe tbody tr th:only-of-type {\n",
       "        vertical-align: middle;\n",
       "    }\n",
       "\n",
       "    .dataframe tbody tr th {\n",
       "        vertical-align: top;\n",
       "    }\n",
       "\n",
       "    .dataframe thead th {\n",
       "        text-align: right;\n",
       "    }\n",
       "</style>\n",
       "<table border=\"1\" class=\"dataframe\">\n",
       "  <thead>\n",
       "    <tr style=\"text-align: right;\">\n",
       "      <th></th>\n",
       "      <th>平均薪資</th>\n",
       "      <th>計算樣本數</th>\n",
       "      <th>比率(%)</th>\n",
       "    </tr>\n",
       "    <tr>\n",
       "      <th>職業類別</th>\n",
       "      <th></th>\n",
       "      <th></th>\n",
       "      <th></th>\n",
       "    </tr>\n",
       "  </thead>\n",
       "  <tbody>\n",
       "    <tr>\n",
       "      <th>統計學研究員</th>\n",
       "      <td>57500</td>\n",
       "      <td>6</td>\n",
       "      <td>7.23</td>\n",
       "    </tr>\n",
       "    <tr>\n",
       "      <th>統計精算人員</th>\n",
       "      <td>52416</td>\n",
       "      <td>6</td>\n",
       "      <td>7.23</td>\n",
       "    </tr>\n",
       "    <tr>\n",
       "      <th>電腦系統分析師</th>\n",
       "      <td>52361</td>\n",
       "      <td>18</td>\n",
       "      <td>21.69</td>\n",
       "    </tr>\n",
       "    <tr>\n",
       "      <th>軟體相關專案管理師</th>\n",
       "      <td>52285</td>\n",
       "      <td>7</td>\n",
       "      <td>8.43</td>\n",
       "    </tr>\n",
       "    <tr>\n",
       "      <th>軟體設計工程師</th>\n",
       "      <td>51928</td>\n",
       "      <td>14</td>\n",
       "      <td>16.87</td>\n",
       "    </tr>\n",
       "    <tr>\n",
       "      <th>市場調查／市場分析</th>\n",
       "      <td>44923</td>\n",
       "      <td>13</td>\n",
       "      <td>15.66</td>\n",
       "    </tr>\n",
       "    <tr>\n",
       "      <th>資料庫管理人員</th>\n",
       "      <td>43500</td>\n",
       "      <td>5</td>\n",
       "      <td>6.02</td>\n",
       "    </tr>\n",
       "    <tr>\n",
       "      <th>其他專案管理師</th>\n",
       "      <td>42857</td>\n",
       "      <td>7</td>\n",
       "      <td>8.43</td>\n",
       "    </tr>\n",
       "    <tr>\n",
       "      <th>行銷企劃人員</th>\n",
       "      <td>40785</td>\n",
       "      <td>7</td>\n",
       "      <td>8.43</td>\n",
       "    </tr>\n",
       "  </tbody>\n",
       "</table>\n",
       "</div>"
      ],
      "text/plain": [
       "            平均薪資  計算樣本數  比率(%)\n",
       "職業類別                          \n",
       "統計學研究員     57500      6   7.23\n",
       "統計精算人員     52416      6   7.23\n",
       "電腦系統分析師    52361     18  21.69\n",
       "軟體相關專案管理師  52285      7   8.43\n",
       "軟體設計工程師    51928     14  16.87\n",
       "市場調查／市場分析  44923     13  15.66\n",
       "資料庫管理人員    43500      5   6.02\n",
       "其他專案管理師    42857      7   8.43\n",
       "行銷企劃人員     40785      7   8.43"
      ]
     },
     "execution_count": 15,
     "metadata": {},
     "output_type": "execute_result"
    }
   ],
   "source": [
    "# 薪情最好前10名職業類別(排除薪資為待遇面議的樣本)\n",
    "catAndSalData = data[data['salary']>0][['jobCategory', 'salary']]\n",
    "catAndSalData['jobCategory'] = catAndSalData['jobCategory'].str.split(',')\n",
    "catAndSalData = catAndSalData.explode('jobCategory')\n",
    "catAndSalData = catAndSalData.groupby('jobCategory').agg(meanSalary=('salary', 'mean'), samples=('salary', 'size'))\n",
    "catAndSalData = catAndSalData[catAndSalData['samples'] >= 5]  # 計算樣本數需大於5筆\n",
    "catAndSalData['meanSalary'] = catAndSalData['meanSalary'].astype(int)\n",
    "catAndSalData['ratio'] = round(catAndSalData['samples']/sum(catAndSalData['samples']), 4)*100\n",
    "catAndSalData.columns = ['平均薪資', '計算樣本數', '比率(%)']\n",
    "catAndSalData.index.names = ['職業類別']\n",
    "catAndSalData.sort_values('平均薪資', ascending=False).head(10)"
   ]
  },
  {
   "cell_type": "markdown",
   "id": "approximate-newfoundland",
   "metadata": {},
   "source": [
    "## 職缺地點前10名\n",
    "\n",
    "計算台灣各縣市「數據分析」(需Python程式設計)的職缺數，可看出大部分的職缺皆集中在台北地區。"
   ]
  },
  {
   "cell_type": "code",
   "execution_count": 16,
   "id": "brave-reproduction",
   "metadata": {},
   "outputs": [
    {
     "data": {
      "text/html": [
       "<div>\n",
       "<style scoped>\n",
       "    .dataframe tbody tr th:only-of-type {\n",
       "        vertical-align: middle;\n",
       "    }\n",
       "\n",
       "    .dataframe tbody tr th {\n",
       "        vertical-align: top;\n",
       "    }\n",
       "\n",
       "    .dataframe thead th {\n",
       "        text-align: right;\n",
       "    }\n",
       "</style>\n",
       "<table border=\"1\" class=\"dataframe\">\n",
       "  <thead>\n",
       "    <tr style=\"text-align: right;\">\n",
       "      <th></th>\n",
       "      <th>次數</th>\n",
       "      <th>比率%</th>\n",
       "    </tr>\n",
       "    <tr>\n",
       "      <th>職缺地點</th>\n",
       "      <th></th>\n",
       "      <th></th>\n",
       "    </tr>\n",
       "  </thead>\n",
       "  <tbody>\n",
       "    <tr>\n",
       "      <th>台北市</th>\n",
       "      <td>63</td>\n",
       "      <td>58.33</td>\n",
       "    </tr>\n",
       "    <tr>\n",
       "      <th>新北市</th>\n",
       "      <td>17</td>\n",
       "      <td>15.74</td>\n",
       "    </tr>\n",
       "    <tr>\n",
       "      <th>台中市</th>\n",
       "      <td>13</td>\n",
       "      <td>12.04</td>\n",
       "    </tr>\n",
       "    <tr>\n",
       "      <th>高雄市</th>\n",
       "      <td>7</td>\n",
       "      <td>6.48</td>\n",
       "    </tr>\n",
       "    <tr>\n",
       "      <th>桃園市</th>\n",
       "      <td>4</td>\n",
       "      <td>3.70</td>\n",
       "    </tr>\n",
       "    <tr>\n",
       "      <th>新竹市</th>\n",
       "      <td>3</td>\n",
       "      <td>2.78</td>\n",
       "    </tr>\n",
       "    <tr>\n",
       "      <th>屏東縣</th>\n",
       "      <td>1</td>\n",
       "      <td>0.93</td>\n",
       "    </tr>\n",
       "  </tbody>\n",
       "</table>\n",
       "</div>"
      ],
      "text/plain": [
       "      次數    比率%\n",
       "職缺地點           \n",
       "台北市   63  58.33\n",
       "新北市   17  15.74\n",
       "台中市   13  12.04\n",
       "高雄市    7   6.48\n",
       "桃園市    4   3.70\n",
       "新竹市    3   2.78\n",
       "屏東縣    1   0.93"
      ]
     },
     "execution_count": 16,
     "metadata": {},
     "output_type": "execute_result"
    }
   ],
   "source": [
    "# 職缺地點前10名\n",
    "data['jobLocation'].str.slice(0, 3).value_counts().to_frame('次數').rename_axis('工作地點').reset_index()\n",
    "\n",
    "# 前10名職缺所屬職業類別\n",
    "locationData = pd.DataFrame({\"次數\": data['jobLocation'].str.slice(0, 3).value_counts(),\n",
    "                             \"比率%\": round(data['jobLocation'].str.slice(0, 3).value_counts(normalize=True), 4)*100})\n",
    "locationData.index.names = ['職缺地點']\n",
    "locationData.head(10)"
   ]
  },
  {
   "cell_type": "markdown",
   "id": "tired-giving",
   "metadata": {},
   "source": [
    "## 職缺年資要求"
   ]
  },
  {
   "cell_type": "code",
   "execution_count": 17,
   "id": "separate-timber",
   "metadata": {},
   "outputs": [
    {
     "data": {
      "text/html": [
       "<div>\n",
       "<style scoped>\n",
       "    .dataframe tbody tr th:only-of-type {\n",
       "        vertical-align: middle;\n",
       "    }\n",
       "\n",
       "    .dataframe tbody tr th {\n",
       "        vertical-align: top;\n",
       "    }\n",
       "\n",
       "    .dataframe thead th {\n",
       "        text-align: right;\n",
       "    }\n",
       "</style>\n",
       "<table border=\"1\" class=\"dataframe\">\n",
       "  <thead>\n",
       "    <tr style=\"text-align: right;\">\n",
       "      <th></th>\n",
       "      <th>次數</th>\n",
       "      <th>比率%</th>\n",
       "    </tr>\n",
       "    <tr>\n",
       "      <th>職缺年資要求</th>\n",
       "      <th></th>\n",
       "      <th></th>\n",
       "    </tr>\n",
       "  </thead>\n",
       "  <tbody>\n",
       "    <tr>\n",
       "      <th>經歷不拘</th>\n",
       "      <td>35</td>\n",
       "      <td>32.41</td>\n",
       "    </tr>\n",
       "    <tr>\n",
       "      <th>3年以上</th>\n",
       "      <td>30</td>\n",
       "      <td>27.78</td>\n",
       "    </tr>\n",
       "    <tr>\n",
       "      <th>2年以上</th>\n",
       "      <td>24</td>\n",
       "      <td>22.22</td>\n",
       "    </tr>\n",
       "    <tr>\n",
       "      <th>1年以上</th>\n",
       "      <td>11</td>\n",
       "      <td>10.19</td>\n",
       "    </tr>\n",
       "    <tr>\n",
       "      <th>5年以上</th>\n",
       "      <td>7</td>\n",
       "      <td>6.48</td>\n",
       "    </tr>\n",
       "    <tr>\n",
       "      <th>6年以上</th>\n",
       "      <td>1</td>\n",
       "      <td>0.93</td>\n",
       "    </tr>\n",
       "  </tbody>\n",
       "</table>\n",
       "</div>"
      ],
      "text/plain": [
       "        次數    比率%\n",
       "職缺年資要求           \n",
       "經歷不拘    35  32.41\n",
       "3年以上    30  27.78\n",
       "2年以上    24  22.22\n",
       "1年以上    11  10.19\n",
       "5年以上     7   6.48\n",
       "6年以上     1   0.93"
      ]
     },
     "execution_count": 17,
     "metadata": {},
     "output_type": "execute_result"
    }
   ],
   "source": [
    "# 職缺年資要求\n",
    "rqYearData = pd.DataFrame({\"次數\": data['jobRqYear'].value_counts(), \n",
    "                           \"比率%\": round(data['jobRqYear'].value_counts(normalize=True), 4)*100})\n",
    "rqYearData.index.names = ['職缺年資要求']\n",
    "rqYearData"
   ]
  },
  {
   "cell_type": "markdown",
   "id": "loving-triangle",
   "metadata": {},
   "source": [
    "## 職缺年資要求與薪資關係"
   ]
  },
  {
   "cell_type": "code",
   "execution_count": 18,
   "id": "unique-boxing",
   "metadata": {},
   "outputs": [
    {
     "data": {
      "text/html": [
       "<div>\n",
       "<style scoped>\n",
       "    .dataframe tbody tr th:only-of-type {\n",
       "        vertical-align: middle;\n",
       "    }\n",
       "\n",
       "    .dataframe tbody tr th {\n",
       "        vertical-align: top;\n",
       "    }\n",
       "\n",
       "    .dataframe thead th {\n",
       "        text-align: right;\n",
       "    }\n",
       "</style>\n",
       "<table border=\"1\" class=\"dataframe\">\n",
       "  <thead>\n",
       "    <tr style=\"text-align: right;\">\n",
       "      <th></th>\n",
       "      <th>平均薪資</th>\n",
       "      <th>計算樣本數</th>\n",
       "      <th>比率(%)</th>\n",
       "    </tr>\n",
       "    <tr>\n",
       "      <th>職缺年資要求</th>\n",
       "      <th></th>\n",
       "      <th></th>\n",
       "      <th></th>\n",
       "    </tr>\n",
       "  </thead>\n",
       "  <tbody>\n",
       "    <tr>\n",
       "      <th>1年以上</th>\n",
       "      <td>43900.000000</td>\n",
       "      <td>5</td>\n",
       "      <td>11.11</td>\n",
       "    </tr>\n",
       "    <tr>\n",
       "      <th>2年以上</th>\n",
       "      <td>47181.818182</td>\n",
       "      <td>11</td>\n",
       "      <td>24.44</td>\n",
       "    </tr>\n",
       "    <tr>\n",
       "      <th>3年以上</th>\n",
       "      <td>53062.500000</td>\n",
       "      <td>8</td>\n",
       "      <td>17.78</td>\n",
       "    </tr>\n",
       "    <tr>\n",
       "      <th>5年以上</th>\n",
       "      <td>55000.000000</td>\n",
       "      <td>1</td>\n",
       "      <td>2.22</td>\n",
       "    </tr>\n",
       "    <tr>\n",
       "      <th>經歷不拘</th>\n",
       "      <td>47525.000000</td>\n",
       "      <td>20</td>\n",
       "      <td>44.44</td>\n",
       "    </tr>\n",
       "  </tbody>\n",
       "</table>\n",
       "</div>"
      ],
      "text/plain": [
       "                平均薪資  計算樣本數  比率(%)\n",
       "職缺年資要求                            \n",
       "1年以上    43900.000000      5  11.11\n",
       "2年以上    47181.818182     11  24.44\n",
       "3年以上    53062.500000      8  17.78\n",
       "5年以上    55000.000000      1   2.22\n",
       "經歷不拘    47525.000000     20  44.44"
      ]
     },
     "execution_count": 18,
     "metadata": {},
     "output_type": "execute_result"
    }
   ],
   "source": [
    "# 職缺年資要求與薪資關係(排除薪資為待遇面議的樣本)\n",
    "rqYearAndSalData = data[data['salary']>0][['jobRqYear', 'salary']]\n",
    "rqYearAndSalData = rqYearAndSalData.groupby('jobRqYear').agg(meanSalary=('salary', 'mean'), samples=('jobRqYear', 'size'))\n",
    "rqYearAndSalData['ratio'] = round(rqYearAndSalData['samples']/sum(rqYearAndSalData['samples']), 4)*100\n",
    "rqYearAndSalData.columns = ['平均薪資', '計算樣本數', '比率(%)']\n",
    "rqYearAndSalData.index.names = ['職缺年資要求']\n",
    "rqYearAndSalData"
   ]
  },
  {
   "cell_type": "markdown",
   "id": "forced-cradle",
   "metadata": {},
   "source": [
    "## 職缺學歷要求"
   ]
  },
  {
   "cell_type": "code",
   "execution_count": 19,
   "id": "cardiovascular-demonstration",
   "metadata": {},
   "outputs": [
    {
     "data": {
      "text/html": [
       "<div>\n",
       "<style scoped>\n",
       "    .dataframe tbody tr th:only-of-type {\n",
       "        vertical-align: middle;\n",
       "    }\n",
       "\n",
       "    .dataframe tbody tr th {\n",
       "        vertical-align: top;\n",
       "    }\n",
       "\n",
       "    .dataframe thead th {\n",
       "        text-align: right;\n",
       "    }\n",
       "</style>\n",
       "<table border=\"1\" class=\"dataframe\">\n",
       "  <thead>\n",
       "    <tr style=\"text-align: right;\">\n",
       "      <th></th>\n",
       "      <th>次數</th>\n",
       "      <th>比率%</th>\n",
       "    </tr>\n",
       "    <tr>\n",
       "      <th>職缺學歷要求</th>\n",
       "      <th></th>\n",
       "      <th></th>\n",
       "    </tr>\n",
       "  </thead>\n",
       "  <tbody>\n",
       "    <tr>\n",
       "      <th>大學</th>\n",
       "      <td>72</td>\n",
       "      <td>66.67</td>\n",
       "    </tr>\n",
       "    <tr>\n",
       "      <th>專科</th>\n",
       "      <td>19</td>\n",
       "      <td>17.59</td>\n",
       "    </tr>\n",
       "    <tr>\n",
       "      <th>碩士</th>\n",
       "      <td>13</td>\n",
       "      <td>12.04</td>\n",
       "    </tr>\n",
       "    <tr>\n",
       "      <th>高中</th>\n",
       "      <td>2</td>\n",
       "      <td>1.85</td>\n",
       "    </tr>\n",
       "    <tr>\n",
       "      <th>學歷不拘</th>\n",
       "      <td>2</td>\n",
       "      <td>1.85</td>\n",
       "    </tr>\n",
       "  </tbody>\n",
       "</table>\n",
       "</div>"
      ],
      "text/plain": [
       "        次數    比率%\n",
       "職缺學歷要求           \n",
       "大學      72  66.67\n",
       "專科      19  17.59\n",
       "碩士      13  12.04\n",
       "高中       2   1.85\n",
       "學歷不拘     2   1.85"
      ]
     },
     "execution_count": 19,
     "metadata": {},
     "output_type": "execute_result"
    }
   ],
   "source": [
    "# 職缺學歷要求\n",
    "rqEducationData = pd.DataFrame({\"次數\": data['jobRqEducation'].value_counts(), \n",
    "                                \"比率%\": round(data['jobRqEducation'].value_counts(normalize=True), 4)*100})\n",
    "rqEducationData.index.names = ['職缺學歷要求']\n",
    "rqEducationData"
   ]
  },
  {
   "cell_type": "markdown",
   "id": "signal-veteran",
   "metadata": {},
   "source": [
    "## 前10名職缺科系需求"
   ]
  },
  {
   "cell_type": "code",
   "execution_count": 20,
   "id": "light-assembly",
   "metadata": {},
   "outputs": [
    {
     "data": {
      "text/html": [
       "<div>\n",
       "<style scoped>\n",
       "    .dataframe tbody tr th:only-of-type {\n",
       "        vertical-align: middle;\n",
       "    }\n",
       "\n",
       "    .dataframe tbody tr th {\n",
       "        vertical-align: top;\n",
       "    }\n",
       "\n",
       "    .dataframe thead th {\n",
       "        text-align: right;\n",
       "    }\n",
       "</style>\n",
       "<table border=\"1\" class=\"dataframe\">\n",
       "  <thead>\n",
       "    <tr style=\"text-align: right;\">\n",
       "      <th></th>\n",
       "      <th>次數</th>\n",
       "      <th>比率%</th>\n",
       "    </tr>\n",
       "    <tr>\n",
       "      <th>職缺科系要求</th>\n",
       "      <th></th>\n",
       "      <th></th>\n",
       "    </tr>\n",
       "  </thead>\n",
       "  <tbody>\n",
       "    <tr>\n",
       "      <th>資訊管理相關</th>\n",
       "      <td>30</td>\n",
       "      <td>18.40</td>\n",
       "    </tr>\n",
       "    <tr>\n",
       "      <th>資訊工程相關</th>\n",
       "      <td>27</td>\n",
       "      <td>16.56</td>\n",
       "    </tr>\n",
       "    <tr>\n",
       "      <th>數理統計相關</th>\n",
       "      <td>19</td>\n",
       "      <td>11.66</td>\n",
       "    </tr>\n",
       "    <tr>\n",
       "      <th>數學及電算機科學學科類</th>\n",
       "      <td>15</td>\n",
       "      <td>9.20</td>\n",
       "    </tr>\n",
       "    <tr>\n",
       "      <th>統計學相關</th>\n",
       "      <td>14</td>\n",
       "      <td>8.59</td>\n",
       "    </tr>\n",
       "    <tr>\n",
       "      <th>應用數學相關</th>\n",
       "      <td>10</td>\n",
       "      <td>6.13</td>\n",
       "    </tr>\n",
       "    <tr>\n",
       "      <th>商業及管理學科類</th>\n",
       "      <td>9</td>\n",
       "      <td>5.52</td>\n",
       "    </tr>\n",
       "    <tr>\n",
       "      <th>工業工程相關</th>\n",
       "      <td>5</td>\n",
       "      <td>3.07</td>\n",
       "    </tr>\n",
       "    <tr>\n",
       "      <th>一般商業學類</th>\n",
       "      <td>4</td>\n",
       "      <td>2.45</td>\n",
       "    </tr>\n",
       "    <tr>\n",
       "      <th>經濟社會及心理學科類</th>\n",
       "      <td>4</td>\n",
       "      <td>2.45</td>\n",
       "    </tr>\n",
       "  </tbody>\n",
       "</table>\n",
       "</div>"
      ],
      "text/plain": [
       "             次數    比率%\n",
       "職缺科系要求                \n",
       "資訊管理相關       30  18.40\n",
       "資訊工程相關       27  16.56\n",
       "數理統計相關       19  11.66\n",
       "數學及電算機科學學科類  15   9.20\n",
       "統計學相關        14   8.59\n",
       "應用數學相關       10   6.13\n",
       "商業及管理學科類      9   5.52\n",
       "工業工程相關        5   3.07\n",
       "一般商業學類        4   2.45\n",
       "經濟社會及心理學科類    4   2.45"
      ]
     },
     "execution_count": 20,
     "metadata": {},
     "output_type": "execute_result"
    }
   ],
   "source": [
    "# 前10名職缺科系需求\n",
    "rqEducationData = data['jobRqDepartment'][data['jobRqDepartment'] != ''].str.split(',').explode()\n",
    "rqEducationData = pd.DataFrame({\"次數\": rqEducationData.value_counts(), \n",
    "                                \"比率%\": round(rqEducationData.value_counts(normalize=True), 4)*100})\n",
    "rqEducationData.index.names = ['職缺科系要求']\n",
    "rqEducationData.head(10)"
   ]
  },
  {
   "cell_type": "markdown",
   "id": "constitutional-sunrise",
   "metadata": {},
   "source": [
    "## 前15名職缺技能要求"
   ]
  },
  {
   "cell_type": "code",
   "execution_count": 21,
   "id": "fallen-valentine",
   "metadata": {},
   "outputs": [
    {
     "data": {
      "text/html": [
       "<div>\n",
       "<style scoped>\n",
       "    .dataframe tbody tr th:only-of-type {\n",
       "        vertical-align: middle;\n",
       "    }\n",
       "\n",
       "    .dataframe tbody tr th {\n",
       "        vertical-align: top;\n",
       "    }\n",
       "\n",
       "    .dataframe thead th {\n",
       "        text-align: right;\n",
       "    }\n",
       "</style>\n",
       "<table border=\"1\" class=\"dataframe\">\n",
       "  <thead>\n",
       "    <tr style=\"text-align: right;\">\n",
       "      <th></th>\n",
       "      <th>次數</th>\n",
       "      <th>比率%</th>\n",
       "    </tr>\n",
       "    <tr>\n",
       "      <th>職缺技能要求</th>\n",
       "      <th></th>\n",
       "      <th></th>\n",
       "    </tr>\n",
       "  </thead>\n",
       "  <tbody>\n",
       "    <tr>\n",
       "      <th>Excel</th>\n",
       "      <td>26</td>\n",
       "      <td>10.08</td>\n",
       "    </tr>\n",
       "    <tr>\n",
       "      <th>Python</th>\n",
       "      <td>25</td>\n",
       "      <td>9.69</td>\n",
       "    </tr>\n",
       "    <tr>\n",
       "      <th>PowerPoint</th>\n",
       "      <td>17</td>\n",
       "      <td>6.59</td>\n",
       "    </tr>\n",
       "    <tr>\n",
       "      <th>MS SQL</th>\n",
       "      <td>16</td>\n",
       "      <td>6.20</td>\n",
       "    </tr>\n",
       "    <tr>\n",
       "      <th>Word</th>\n",
       "      <td>15</td>\n",
       "      <td>5.81</td>\n",
       "    </tr>\n",
       "    <tr>\n",
       "      <th>R</th>\n",
       "      <td>14</td>\n",
       "      <td>5.43</td>\n",
       "    </tr>\n",
       "    <tr>\n",
       "      <th>Tableau</th>\n",
       "      <td>11</td>\n",
       "      <td>4.26</td>\n",
       "    </tr>\n",
       "    <tr>\n",
       "      <th>MySQL</th>\n",
       "      <td>10</td>\n",
       "      <td>3.88</td>\n",
       "    </tr>\n",
       "    <tr>\n",
       "      <th>Google Analytics</th>\n",
       "      <td>8</td>\n",
       "      <td>3.10</td>\n",
       "    </tr>\n",
       "    <tr>\n",
       "      <th>PL/SQL</th>\n",
       "      <td>8</td>\n",
       "      <td>3.10</td>\n",
       "    </tr>\n",
       "    <tr>\n",
       "      <th>Power BI​</th>\n",
       "      <td>7</td>\n",
       "      <td>2.71</td>\n",
       "    </tr>\n",
       "    <tr>\n",
       "      <th>Linux</th>\n",
       "      <td>5</td>\n",
       "      <td>1.94</td>\n",
       "    </tr>\n",
       "    <tr>\n",
       "      <th>Visio</th>\n",
       "      <td>5</td>\n",
       "      <td>1.94</td>\n",
       "    </tr>\n",
       "    <tr>\n",
       "      <th>Google Data Studio</th>\n",
       "      <td>5</td>\n",
       "      <td>1.94</td>\n",
       "    </tr>\n",
       "    <tr>\n",
       "      <th>Project</th>\n",
       "      <td>4</td>\n",
       "      <td>1.55</td>\n",
       "    </tr>\n",
       "  </tbody>\n",
       "</table>\n",
       "</div>"
      ],
      "text/plain": [
       "                    次數    比率%\n",
       "職缺技能要求                       \n",
       "Excel               26  10.08\n",
       "Python              25   9.69\n",
       "PowerPoint          17   6.59\n",
       "MS SQL              16   6.20\n",
       "Word                15   5.81\n",
       "R                   14   5.43\n",
       "Tableau             11   4.26\n",
       "MySQL               10   3.88\n",
       "Google Analytics     8   3.10\n",
       "PL/SQL               8   3.10\n",
       "Power BI​            7   2.71\n",
       "Linux                5   1.94\n",
       "Visio                5   1.94\n",
       "Google Data Studio   5   1.94\n",
       "Project              4   1.55"
      ]
     },
     "execution_count": 21,
     "metadata": {},
     "output_type": "execute_result"
    }
   ],
   "source": [
    "# 職缺技能要求前15名\n",
    "specialtyData = data['jobSpecialty'][data['jobSpecialty'] != ''].str.split(',').explode()\n",
    "specialtyData = pd.DataFrame({\"次數\": specialtyData.value_counts(), \n",
    "                              \"比率%\": round(specialtyData.value_counts(normalize=True), 4)*100})\n",
    "specialtyData.index.names = ['職缺技能要求']\n",
    "specialtyData.head(15)"
   ]
  },
  {
   "cell_type": "markdown",
   "id": "physical-nelson",
   "metadata": {},
   "source": [
    "## 職缺其他條件分析\n",
    "\n",
    "職缺其他條件為企業額外撰寫職缺資訊的地方，通常會對工作進行更多描述。\n",
    "\n",
    "此處採用[結巴套件](https://github.com/fxsjy/jieba)來進行斷詞，並繪製文字雲來看看有沒有什麼重要的關鍵字詞。\n",
    "\n",
    "* 自定義字典使用[Github: uuboyscy/work104](https://github.com/uuboyscy/work104/blob/master/dict/bigData.txt)，並自行額外加入其他字詞\n",
    "\n",
    "* 停用字典使用[Github: tomlinNTUB/Python](https://github.com/tomlinNTUB/Python/blob/master/%E4%B8%AD%E6%96%87%E5%88%86%E8%A9%9E/%E5%81%9C%E7%94%A8%E8%A9%9E.txt)"
   ]
  },
  {
   "cell_type": "code",
   "execution_count": 22,
   "id": "everyday-jenny",
   "metadata": {},
   "outputs": [
    {
     "name": "stderr",
     "output_type": "stream",
     "text": [
      "Building prefix dict from the default dictionary ...\n",
      "Loading model from cache C:\\Users\\User\\AppData\\Local\\Temp\\jieba.cache\n",
      "Loading model cost 0.686 seconds.\n",
      "Prefix dict has been built successfully.\n"
     ]
    }
   ],
   "source": [
    "# 加入自定義字典\n",
    "jieba.load_userdict(\"userdict.txt\")\n",
    "\n",
    "# 設定停用詞\n",
    "jieba.analyse.set_stop_words(\"stopdict.txt\")"
   ]
  },
  {
   "cell_type": "code",
   "execution_count": 23,
   "id": "blond-campaign",
   "metadata": {
    "scrolled": true
   },
   "outputs": [
    {
     "data": {
      "image/png": "[encoded data removed]",
      "text/plain": [
       "<Figure size 432x288 with 1 Axes>"
      ]
     },
     "metadata": {
      "needs_background": "light"
     },
     "output_type": "display_data"
    }
   ],
   "source": [
    "# 職缺其他條件分析\n",
    "# 此處透過結巴TF-IDF斷詞來觀察重要詞彙\n",
    "allKeyText = jieba.analyse.extract_tags('\\n'.join(data['jobOthers'].tolist()), topK=100)\n",
    "\n",
    "# 繪製文字雲\n",
    "font = \"NotoSansTC-Medium.otf\"  # 使用Google開發的思源黑體字體\n",
    "wordcloud = WordCloud(background_color=\"white\", font_path=font).generate('.'.join(allKeyText))\n",
    "plt.imshow(wordcloud, interpolation='bilinear')\n",
    "plt.axis(\"off\")\n",
    "plt.show()"
   ]
  }
 ],
 "metadata": {
  "kernelspec": {
   "display_name": "Python 3",
   "language": "python",
   "name": "python3"
  },
  "language_info": {
   "codemirror_mode": {
    "name": "ipython",
    "version": 3
   },
   "file_extension": ".py",
   "mimetype": "text/x-python",
   "name": "python",
   "nbconvert_exporter": "python",
   "pygments_lexer": "ipython3",
   "version": "3.7.4"
  }
 },
 "nbformat": 4,
 "nbformat_minor": 5
}
